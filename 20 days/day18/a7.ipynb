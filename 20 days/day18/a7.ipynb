{
 "cells": [
  {
   "cell_type": "code",
   "execution_count": 3,
   "metadata": {},
   "outputs": [],
   "source": [
    "import pandas as pd\n"
   ]
  },
  {
   "cell_type": "code",
   "execution_count": 2,
   "metadata": {},
   "outputs": [],
   "source": [
    "import heapq"
   ]
  },
  {
   "cell_type": "code",
   "execution_count": 4,
   "metadata": {},
   "outputs": [],
   "source": [
    "df = pd.DataFrame({\n",
    "    'product':['Whey','Creatine','Mass Gainer','Pre-workout','BCAA','Multivitamin'],\n",
    "    'price':[120,90,300,200,400,50]\n",
    "})"
   ]
  },
  {
   "cell_type": "code",
   "execution_count": 5,
   "metadata": {},
   "outputs": [
    {
     "name": "stdout",
     "output_type": "stream",
     "text": [
      "[400, 300, 200]\n"
     ]
    }
   ],
   "source": [
    "top_prices = heapq.nlargest(3,df['price'])\n",
    "print(top_prices)"
   ]
  },
  {
   "cell_type": "code",
   "execution_count": 6,
   "metadata": {},
   "outputs": [],
   "source": [
    "top_product = df.nlargest(3,'price')"
   ]
  },
  {
   "cell_type": "code",
   "execution_count": 7,
   "metadata": {},
   "outputs": [
    {
     "name": "stdout",
     "output_type": "stream",
     "text": [
      "       product  price\n",
      "4         BCAA    400\n",
      "2  Mass Gainer    300\n",
      "3  Pre-workout    200\n"
     ]
    }
   ],
   "source": [
    "print(top_product)"
   ]
  },
  {
   "cell_type": "code",
   "execution_count": 8,
   "metadata": {},
   "outputs": [],
   "source": [
    "import pandas as pd\n",
    "\n",
    "df = pd.DataFrame({\n",
    "    'category': ['Protein', 'Protein', 'Creatine', 'Creatine', 'Vitamins', 'Vitamins'],\n",
    "    'product': ['Whey', 'Mass Gainer', 'Mono', 'HCl', 'Vit C', 'Vit D'],\n",
    "    'price': [120, 300, 90, 130, 50, 70],\n",
    "    'units_sold': [500, 800, 600, 300, 200, 100]\n",
    "})"
   ]
  },
  {
   "cell_type": "code",
   "execution_count": 9,
   "metadata": {},
   "outputs": [
    {
     "name": "stderr",
     "output_type": "stream",
     "text": [
      "C:\\Users\\francis\\AppData\\Local\\Temp\\ipykernel_1784\\422102135.py:1: DeprecationWarning: DataFrameGroupBy.apply operated on the grouping columns. This behavior is deprecated, and in a future version of pandas the grouping columns will be excluded from the operation. Either pass `include_groups=False` to exclude the groupings or explicitly select the grouping columns after groupby to silence this warning.\n",
      "  top_expensive = df.groupby('category').apply(lambda x: x.nlargest(2,'price')).reset_index(drop=True)\n"
     ]
    }
   ],
   "source": [
    "top_expensive = df.groupby('category').apply(lambda x: x.nlargest(2,'price')).reset_index(drop=True)"
   ]
  },
  {
   "cell_type": "code",
   "execution_count": 10,
   "metadata": {},
   "outputs": [
    {
     "name": "stdout",
     "output_type": "stream",
     "text": [
      "   category      product  price  units_sold\n",
      "0  Creatine          HCl    130         300\n",
      "1  Creatine         Mono     90         600\n",
      "2   Protein  Mass Gainer    300         800\n",
      "3   Protein         Whey    120         500\n",
      "4  Vitamins        Vit D     70         100\n",
      "5  Vitamins        Vit C     50         200\n"
     ]
    }
   ],
   "source": [
    "print(top_expensive)"
   ]
  },
  {
   "cell_type": "code",
   "execution_count": 11,
   "metadata": {},
   "outputs": [],
   "source": [
    "df['rank_in_category'] = df.groupby('category')['price'].rank(ascending=False)"
   ]
  },
  {
   "cell_type": "code",
   "execution_count": 12,
   "metadata": {},
   "outputs": [
    {
     "name": "stdout",
     "output_type": "stream",
     "text": [
      "   category      product  price  units_sold  rank_in_category\n",
      "0   Protein         Whey    120         500               2.0\n",
      "1   Protein  Mass Gainer    300         800               1.0\n",
      "2  Creatine         Mono     90         600               2.0\n",
      "3  Creatine          HCl    130         300               1.0\n",
      "4  Vitamins        Vit C     50         200               2.0\n",
      "5  Vitamins        Vit D     70         100               1.0\n"
     ]
    }
   ],
   "source": [
    "print(df)"
   ]
  },
  {
   "cell_type": "code",
   "execution_count": 14,
   "metadata": {},
   "outputs": [],
   "source": [
    "import pandas as pd\n",
    "\n",
    "df = pd.DataFrame({\n",
    "    'category': ['Protein', 'Protein', 'Creatine', 'Creatine', 'Vitamins', 'Vitamins'],\n",
    "    'product': ['Whey', 'Mass Gainer', 'Mono', 'HCl', 'Vit C', 'Vit D'],\n",
    "    'price': [120, 300, 90, 130, 50, 70],\n",
    "    'units_sold': [500, 800, 600, 300, 200, 100]\n",
    "})\n"
   ]
  },
  {
   "cell_type": "code",
   "execution_count": 15,
   "metadata": {},
   "outputs": [],
   "source": [
    "top1 = df.loc[df.groupby('category')['units_sold'].idxmax()]"
   ]
  },
  {
   "cell_type": "code",
   "execution_count": 16,
   "metadata": {},
   "outputs": [
    {
     "name": "stdout",
     "output_type": "stream",
     "text": [
      "   category      product  price  units_sold\n",
      "2  Creatine         Mono     90         600\n",
      "1   Protein  Mass Gainer    300         800\n",
      "4  Vitamins        Vit C     50         200\n"
     ]
    }
   ],
   "source": [
    "print(top1)"
   ]
  },
  {
   "cell_type": "code",
   "execution_count": 18,
   "metadata": {},
   "outputs": [
    {
     "name": "stdout",
     "output_type": "stream",
     "text": [
      "   category      product  price  units_sold  price_rank\n",
      "0   Protein         Whey    120         500         2.0\n",
      "1   Protein  Mass Gainer    300         800         1.0\n",
      "2  Creatine         Mono     90         600         2.0\n",
      "3  Creatine          HCl    130         300         1.0\n",
      "4  Vitamins        Vit C     50         200         2.0\n",
      "5  Vitamins        Vit D     70         100         1.0\n"
     ]
    }
   ],
   "source": [
    "df['price_rank'] = df.groupby('category')['price'].rank(ascending=False)\n",
    "print(df)"
   ]
  },
  {
   "cell_type": "code",
   "execution_count": 19,
   "metadata": {},
   "outputs": [],
   "source": [
    "df['sale_rank'] = df.groupby('category')['units_sold'].rank(ascending=False)"
   ]
  },
  {
   "cell_type": "code",
   "execution_count": 20,
   "metadata": {},
   "outputs": [
    {
     "name": "stdout",
     "output_type": "stream",
     "text": [
      "   category      product  price  units_sold  price_rank  sale_rank\n",
      "0   Protein         Whey    120         500         2.0        2.0\n",
      "1   Protein  Mass Gainer    300         800         1.0        1.0\n",
      "2  Creatine         Mono     90         600         2.0        1.0\n",
      "3  Creatine          HCl    130         300         1.0        2.0\n",
      "4  Vitamins        Vit C     50         200         2.0        1.0\n",
      "5  Vitamins        Vit D     70         100         1.0        2.0\n"
     ]
    }
   ],
   "source": [
    "print(df)"
   ]
  },
  {
   "cell_type": "code",
   "execution_count": 22,
   "metadata": {},
   "outputs": [],
   "source": [
    "agg_result = df.groupby('category').agg({\n",
    "    'price':'mean',\n",
    "    'units_sold':'sum'\n",
    "}).reset_index()"
   ]
  },
  {
   "cell_type": "code",
   "execution_count": 23,
   "metadata": {},
   "outputs": [
    {
     "name": "stdout",
     "output_type": "stream",
     "text": [
      "   category  price  units_sold\n",
      "0  Creatine  110.0         900\n",
      "1   Protein  210.0        1300\n",
      "2  Vitamins   60.0         300\n"
     ]
    }
   ],
   "source": [
    "print(agg_result)"
   ]
  },
  {
   "cell_type": "code",
   "execution_count": 24,
   "metadata": {},
   "outputs": [],
   "source": [
    "df['price_percentile'] = df.groupby('category')['price'].rank(pct=True)"
   ]
  },
  {
   "cell_type": "code",
   "execution_count": 25,
   "metadata": {},
   "outputs": [],
   "source": [
    "top_half = df[df['price_percentile'] >= 0.5]"
   ]
  },
  {
   "cell_type": "code",
   "execution_count": 26,
   "metadata": {},
   "outputs": [
    {
     "name": "stdout",
     "output_type": "stream",
     "text": [
      "   category      product  price  units_sold  price_rank  sale_rank  \\\n",
      "0   Protein         Whey    120         500         2.0        2.0   \n",
      "1   Protein  Mass Gainer    300         800         1.0        1.0   \n",
      "2  Creatine         Mono     90         600         2.0        1.0   \n",
      "3  Creatine          HCl    130         300         1.0        2.0   \n",
      "4  Vitamins        Vit C     50         200         2.0        1.0   \n",
      "5  Vitamins        Vit D     70         100         1.0        2.0   \n",
      "\n",
      "   price_percentile  \n",
      "0               0.5  \n",
      "1               1.0  \n",
      "2               0.5  \n",
      "3               1.0  \n",
      "4               0.5  \n",
      "5               1.0  \n"
     ]
    }
   ],
   "source": [
    "print(top_half)"
   ]
  },
  {
   "cell_type": "code",
   "execution_count": null,
   "metadata": {},
   "outputs": [],
   "source": []
  }
 ],
 "metadata": {
  "kernelspec": {
   "display_name": "Python 3",
   "language": "python",
   "name": "python3"
  },
  "language_info": {
   "codemirror_mode": {
    "name": "ipython",
    "version": 3
   },
   "file_extension": ".py",
   "mimetype": "text/x-python",
   "name": "python",
   "nbconvert_exporter": "python",
   "pygments_lexer": "ipython3",
   "version": "3.12.3"
  }
 },
 "nbformat": 4,
 "nbformat_minor": 2
}
